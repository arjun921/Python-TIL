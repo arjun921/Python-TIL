{
 "cells": [
  {
   "cell_type": "code",
   "execution_count": 1,
   "metadata": {
    "collapsed": true
   },
   "outputs": [],
   "source": [
    "pyDic = {\"merry\":\"god\", \"christmas\":\"jul\", \"and\":\"och\", \"happy\":\"gott\", \"new\":\"nytt\", \"year\":\"år\"}"
   ]
  },
  {
   "cell_type": "code",
   "execution_count": 2,
   "metadata": {
    "collapsed": false
   },
   "outputs": [
    {
     "data": {
      "text/plain": [
       "'god'"
      ]
     },
     "execution_count": 2,
     "metadata": {},
     "output_type": "execute_result"
    }
   ],
   "source": [
    "pyDic['merry']"
   ]
  },
  {
   "cell_type": "code",
   "execution_count": 3,
   "metadata": {
    "collapsed": false
   },
   "outputs": [
    {
     "data": {
      "text/plain": [
       "'Represent a small bilingual lexicon as a Python dictionary in the following fashion\\n{\"merry\":\"god\", \"christmas\":\"jul\", \"and\":\"och\", \"happy\":gott\", \"new\":\"nytt\", \"year\":\"år\"}\\nand use it to translate your Christmas cards from English into Swedish. That is, write a function\\ntranslate() that takes a list of English words and returns a list of Swedish words.'"
      ]
     },
     "execution_count": 3,
     "metadata": {},
     "output_type": "execute_result"
    }
   ],
   "source": [
    "\"\"\"Represent a small bilingual lexicon as a Python dictionary in the following fashion\n",
    "{\"merry\":\"god\", \"christmas\":\"jul\", \"and\":\"och\", \"happy\":gott\", \"new\":\"nytt\", \"year\":\"år\"}\n",
    "and use it to translate your Christmas cards from English into Swedish. That is, write a function\n",
    "translate() that takes a list of English words and returns a list of Swedish words.\"\"\""
   ]
  },
  {
   "cell_type": "code",
   "execution_count": 4,
   "metadata": {
    "collapsed": false
   },
   "outputs": [
    {
     "ename": "SyntaxError",
     "evalue": "Missing parentheses in call to 'print' (<ipython-input-4-2c1d2283b711>, line 3)",
     "output_type": "error",
     "traceback": [
      "\u001b[0;36m  File \u001b[0;32m\"<ipython-input-4-2c1d2283b711>\"\u001b[0;36m, line \u001b[0;32m3\u001b[0m\n\u001b[0;31m    print x\u001b[0m\n\u001b[0m          ^\u001b[0m\n\u001b[0;31mSyntaxError\u001b[0m\u001b[0;31m:\u001b[0m Missing parentheses in call to 'print'\n"
     ]
    }
   ],
   "source": [
    "def translate(lis):\n",
    "    for x in lis:\n",
    "        print x"
   ]
  },
  {
   "cell_type": "code",
   "execution_count": 10,
   "metadata": {
    "collapsed": false
   },
   "outputs": [
    {
     "name": "stdout",
     "output_type": "stream",
     "text": [
      "Enter Number of elements in list:4\n",
      "Enter Words for translation:merry\n",
      "Enter Words for translation:christmas\n",
      "Enter Words for translation:and\n",
      "Enter Words for translation:asdasd\n"
     ]
    }
   ],
   "source": [
    "lis = []\n",
    "n = int(input('Enter Number of elements in list:'))\n",
    "for x in range(n):\n",
    "    lis.append(input('Enter Words for translation:'))"
   ]
  },
  {
   "cell_type": "code",
   "execution_count": 11,
   "metadata": {
    "collapsed": false
   },
   "outputs": [
    {
     "data": {
      "text/plain": [
       "['merry', 'christmas', 'and', 'asdasd']"
      ]
     },
     "execution_count": 11,
     "metadata": {},
     "output_type": "execute_result"
    }
   ],
   "source": [
    "lis"
   ]
  },
  {
   "cell_type": "code",
   "execution_count": 13,
   "metadata": {
    "collapsed": false
   },
   "outputs": [
    {
     "name": "stdout",
     "output_type": "stream",
     "text": [
      "Translation of merry = god\n",
      "Translation of christmas = jul\n",
      "Translation of and = och\n",
      "Not found\n"
     ]
    }
   ],
   "source": [
    "for x in lis:\n",
    "    if x in pyDic:\n",
    "        print (\"Translation of {} = {}\".format(x,pyDic[x]))\n",
    "    else:\n",
    "        print('Not found')"
   ]
  },
  {
   "cell_type": "code",
   "execution_count": 19,
   "metadata": {
    "collapsed": true
   },
   "outputs": [],
   "source": [
    "def translate(lis):\n",
    "    for x in lis:\n",
    "        if x in pyDic:\n",
    "            print (\"Translation of '{}' = '{}'\".format(x,pyDic[x]))\n",
    "        else:\n",
    "            print('Translation Not found')"
   ]
  },
  {
   "cell_type": "code",
   "execution_count": 20,
   "metadata": {
    "collapsed": false
   },
   "outputs": [
    {
     "name": "stdout",
     "output_type": "stream",
     "text": [
      "Translation of 'merry' = 'god'\n",
      "Translation of 'christmas' = 'jul'\n",
      "Translation of 'and' = 'och'\n",
      "Translation Not found\n"
     ]
    }
   ],
   "source": [
    "translate(lis)"
   ]
  },
  {
   "cell_type": "code",
   "execution_count": 21,
   "metadata": {
    "collapsed": false
   },
   "outputs": [
    {
     "name": "stdout",
     "output_type": "stream",
     "text": [
      "Enter Number of elements in list:4\n",
      "Enter Words for translation:merry\n",
      "Enter Words for translation:christmas\n",
      "Enter Words for translation:and\n",
      "Enter Words for translation:happy\n",
      "Translation of 'merry' = 'god'\n",
      "Translation of 'christmas' = 'jul'\n",
      "Translation of 'and' = 'och'\n",
      "Translation of 'happy' = 'gott'\n"
     ]
    }
   ],
   "source": [
    "\"\"\"Solution\"\"\"\n",
    "pyDic = {\"merry\":\"god\", \"christmas\":\"jul\", \"and\":\"och\", \"happy\":\"gott\", \"new\":\"nytt\", \"year\":\"år\"}\n",
    "def translate(lis):\n",
    "    for x in lis:\n",
    "        if x in pyDic:\n",
    "            print (\"Translation of '{}' = '{}'\".format(x,pyDic[x]))\n",
    "        else:\n",
    "            print('Translation Not found')\n",
    "            \n",
    "lis = []\n",
    "n = int(input('Enter Number of elements in list:'))\n",
    "for x in range(n):\n",
    "    lis.append(input('Enter Words for translation:'))\n",
    "translate(lis)"
   ]
  }
 ],
 "metadata": {
  "anaconda-cloud": {},
  "kernelspec": {
   "display_name": "Python [conda root]",
   "language": "python",
   "name": "conda-root-py"
  },
  "language_info": {
   "codemirror_mode": {
    "name": "ipython",
    "version": 3
   },
   "file_extension": ".py",
   "mimetype": "text/x-python",
   "name": "python",
   "nbconvert_exporter": "python",
   "pygments_lexer": "ipython3",
   "version": "3.5.2"
  }
 },
 "nbformat": 4,
 "nbformat_minor": 1
}
