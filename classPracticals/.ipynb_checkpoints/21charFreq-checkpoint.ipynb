{
 "cells": [
  {
   "cell_type": "code",
   "execution_count": 2,
   "metadata": {
    "collapsed": false
   },
   "outputs": [],
   "source": [
    "# 21. Write a function char_freq() that takes a string and builds a frequency listing\n",
    "# of the characters contained in it. Represent the frequency listing as a Python dictionary. \n",
    "# Try it with something like char_freq(\"abbabcbdbabdbdbabababcbcbab\")"
   ]
  },
  {
   "cell_type": "code",
   "execution_count": 43,
   "metadata": {
    "collapsed": true
   },
   "outputs": [],
   "source": [
    "s = \"abbabcbdbabdbdbabababcbcbab\"\n",
    "sSet = set()"
   ]
  },
  {
   "cell_type": "code",
   "execution_count": 44,
   "metadata": {
    "collapsed": true
   },
   "outputs": [],
   "source": [
    "for x in s:\n",
    "    sSet.add(x)"
   ]
  },
  {
   "cell_type": "code",
   "execution_count": 45,
   "metadata": {
    "collapsed": false
   },
   "outputs": [
    {
     "data": {
      "text/plain": [
       "{'a', 'b', 'c', 'd'}"
      ]
     },
     "execution_count": 45,
     "metadata": {},
     "output_type": "execute_result"
    }
   ],
   "source": [
    "sSet"
   ]
  },
  {
   "cell_type": "code",
   "execution_count": 46,
   "metadata": {
    "collapsed": true
   },
   "outputs": [],
   "source": [
    "dict={}"
   ]
  },
  {
   "cell_type": "code",
   "execution_count": 47,
   "metadata": {
    "collapsed": false
   },
   "outputs": [
    {
     "name": "stdout",
     "output_type": "stream",
     "text": [
      "b\n",
      "c\n",
      "a\n",
      "d\n"
     ]
    }
   ],
   "source": [
    "for x in sSet:\n",
    "    print (x)"
   ]
  },
  {
   "cell_type": "code",
   "execution_count": 48,
   "metadata": {
    "collapsed": false
   },
   "outputs": [
    {
     "name": "stdout",
     "output_type": "stream",
     "text": [
      "b 14\n",
      "c 3\n",
      "a 7\n",
      "d 3\n"
     ]
    }
   ],
   "source": [
    "\n",
    "for x in sSet:\n",
    "    count=0\n",
    "    for y in s:\n",
    "        if x==y:\n",
    "            count+=1\n",
    "    dict[x]=count\n",
    "#     print(x,count)"
   ]
  },
  {
   "cell_type": "code",
   "execution_count": 50,
   "metadata": {
    "collapsed": false
   },
   "outputs": [
    {
     "data": {
      "text/plain": [
       "{'a': 7, 'b': 14, 'c': 3, 'd': 3}"
      ]
     },
     "execution_count": 50,
     "metadata": {},
     "output_type": "execute_result"
    }
   ],
   "source": [
    "dict"
   ]
  },
  {
   "cell_type": "code",
   "execution_count": 51,
   "metadata": {
    "collapsed": false
   },
   "outputs": [
    {
     "name": "stdout",
     "output_type": "stream",
     "text": [
      "Enter string to check character frequencyabbabcbdbabdbdbabababcbcbab\n",
      "{'b': 14, 'c': 3, 'a': 7, 'd': 3}\n"
     ]
    }
   ],
   "source": [
    "\"\"\"Done\"\"\"\n",
    "sSet = set()\n",
    "def char_freq(w):\n",
    "    for x in s:\n",
    "        sSet.add(x)\n",
    "    for x in sSet:\n",
    "        count=0\n",
    "        for y in s:\n",
    "            if x==y:\n",
    "                count+=1\n",
    "        dict[x]=count\n",
    "    return dict\n",
    "aw = input('Enter string to check character frequency')\n",
    "print(char_freq(aw))"
   ]
  }
 ],
 "metadata": {
  "anaconda-cloud": {},
  "kernelspec": {
   "display_name": "Python [conda root]",
   "language": "python",
   "name": "conda-root-py"
  },
  "language_info": {
   "codemirror_mode": {
    "name": "ipython",
    "version": 3
   },
   "file_extension": ".py",
   "mimetype": "text/x-python",
   "name": "python",
   "nbconvert_exporter": "python",
   "pygments_lexer": "ipython3",
   "version": "3.5.2"
  }
 },
 "nbformat": 4,
 "nbformat_minor": 1
}
