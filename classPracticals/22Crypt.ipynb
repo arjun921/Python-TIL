{
 "cells": [
  {
   "cell_type": "code",
   "execution_count": 1,
   "metadata": {
    "collapsed": true
   },
   "outputs": [],
   "source": [
    " key = {\n",
    "        'a':'n', 'b':'o', 'c':'p', 'd':'q', 'e':'r', 'f':'s', 'g':'t',\n",
    "        'h':'u','i':'v', 'j':'w', 'k':'x', 'l':'y', 'm':'z', 'n':'a',\n",
    "        'o':'b', 'p':'c','q':'d', 'r':'e', 's':'f', 't':'g', 'u':'h', \n",
    "        'v':'i', 'w':'j', 'x':'k','y':'l', 'z':'m', 'A':'N', 'B':'O', \n",
    "        'C':'P', 'D':'Q', 'E':'R', 'F':'S','G':'T', 'H':'U', 'I':'V', \n",
    "        'J':'W', 'K':'X', 'L':'Y', 'M':'Z', 'N':'A','O':'B', 'P':'C', \n",
    "        'Q':'D', 'R':'E', 'S':'F', 'T':'G', 'U':'H', 'V':'I','W':'J', \n",
    "        'X':'K', 'Y':'L', 'Z':'M'\n",
    "       }"
   ]
  },
  {
   "cell_type": "code",
   "execution_count": 2,
   "metadata": {
    "collapsed": true
   },
   "outputs": [],
   "source": [
    "s = \"Pnrfne pvcure? V zhpu cersre Pnrfne fnynq!\""
   ]
  },
  {
   "cell_type": "code",
   "execution_count": 5,
   "metadata": {
    "collapsed": false
   },
   "outputs": [],
   "source": [
    "lis = []\n",
    "for x in s:\n",
    "    if x in key:\n",
    "        lis.append(key[x])\n",
    "    else:\n",
    "        lis.append(x)"
   ]
  },
  {
   "cell_type": "code",
   "execution_count": 11,
   "metadata": {
    "collapsed": false
   },
   "outputs": [
    {
     "name": "stdout",
     "output_type": "stream",
     "text": [
      "Caesar cipher? I much prefer Caesar salad!\n"
     ]
    }
   ],
   "source": [
    "print(''.join(lis))"
   ]
  },
  {
   "cell_type": "code",
   "execution_count": 16,
   "metadata": {
    "collapsed": false
   },
   "outputs": [
    {
     "name": "stdout",
     "output_type": "stream",
     "text": [
      "Caesar cipher? I much prefer Caesar salad!\n"
     ]
    }
   ],
   "source": [
    "\"\"\"Solution\"\"\"\n",
    "key = {\n",
    "        'a':'n', 'b':'o', 'c':'p', 'd':'q', 'e':'r', 'f':'s', 'g':'t',\n",
    "        'h':'u','i':'v', 'j':'w', 'k':'x', 'l':'y', 'm':'z', 'n':'a',\n",
    "        'o':'b', 'p':'c','q':'d', 'r':'e', 's':'f', 't':'g', 'u':'h', \n",
    "        'v':'i', 'w':'j', 'x':'k','y':'l', 'z':'m', 'A':'N', 'B':'O', \n",
    "        'C':'P', 'D':'Q', 'E':'R', 'F':'S','G':'T', 'H':'U', 'I':'V', \n",
    "        'J':'W', 'K':'X', 'L':'Y', 'M':'Z', 'N':'A','O':'B', 'P':'C', \n",
    "        'Q':'D', 'R':'E', 'S':'F', 'T':'G', 'U':'H', 'V':'I','W':'J', \n",
    "        'X':'K', 'Y':'L', 'Z':'M'\n",
    "       }\n",
    "s = \"Pnrfne pvcure? V zhpu cersre Pnrfne fnynq!\"\n",
    "lis = []\n",
    "for x in s:\n",
    "    if x in key:\n",
    "        lis.append(key[x])\n",
    "    else:\n",
    "        lis.append(x)\n",
    "print(''.join(lis))"
   ]
  },
  {
   "cell_type": "code",
   "execution_count": 1,
   "metadata": {
    "collapsed": true
   },
   "outputs": [],
   "source": [
    "#Solution\n",
    "def decoder(s):\n",
    "    key = {\n",
    "        'a':'n', 'b':'o', 'c':'p', 'd':'q', 'e':'r', 'f':'s', 'g':'t',\n",
    "        'h':'u','i':'v', 'j':'w', 'k':'x', 'l':'y', 'm':'z', 'n':'a',\n",
    "        'o':'b', 'p':'c','q':'d', 'r':'e', 's':'f', 't':'g', 'u':'h', \n",
    "        'v':'i', 'w':'j', 'x':'k','y':'l', 'z':'m', 'A':'N', 'B':'O', \n",
    "        'C':'P', 'D':'Q', 'E':'R', 'F':'S','G':'T', 'H':'U', 'I':'V', \n",
    "        'J':'W', 'K':'X', 'L':'Y', 'M':'Z', 'N':'A','O':'B', 'P':'C', \n",
    "        'Q':'D', 'R':'E', 'S':'F', 'T':'G', 'U':'H', 'V':'I','W':'J', \n",
    "        'X':'K', 'Y':'L', 'Z':'M'\n",
    "       }\n",
    "    lis = []\n",
    "    for x in s:\n",
    "        if x in key:\n",
    "            lis.append(key[x])\n",
    "        else:\n",
    "            lis.append(x)\n",
    "    return (''.join(lis))\n",
    "\n",
    "def encoder(s):\n",
    "    key = {\n",
    "        'a':'n', 'b':'o', 'c':'p', 'd':'q', 'e':'r', 'f':'s', 'g':'t',\n",
    "        'h':'u','i':'v', 'j':'w', 'k':'x', 'l':'y', 'm':'z', 'n':'a',\n",
    "        'o':'b', 'p':'c','q':'d', 'r':'e', 's':'f', 't':'g', 'u':'h', \n",
    "        'v':'i', 'w':'j', 'x':'k','y':'l', 'z':'m', 'A':'N', 'B':'O', \n",
    "        'C':'P', 'D':'Q', 'E':'R', 'F':'S','G':'T', 'H':'U', 'I':'V', \n",
    "        'J':'W', 'K':'X', 'L':'Y', 'M':'Z', 'N':'A','O':'B', 'P':'C', \n",
    "        'Q':'D', 'R':'E', 'S':'F', 'T':'G', 'U':'H', 'V':'I','W':'J', \n",
    "        'X':'K', 'Y':'L', 'Z':'M'\n",
    "       }\n",
    "    lis = []\n",
    "    for x in s:\n",
    "        if x in key:\n",
    "            lis.append(key[x])\n",
    "        else:\n",
    "            lis.append(x)\n",
    "    return (''.join(lis))"
   ]
  },
  {
   "cell_type": "code",
   "execution_count": 2,
   "metadata": {
    "collapsed": false
   },
   "outputs": [
    {
     "name": "stdout",
     "output_type": "stream",
     "text": [
      "Input message to decode:Hello World\n"
     ]
    },
    {
     "data": {
      "text/plain": [
       "'Uryyb Jbeyq'"
      ]
     },
     "execution_count": 2,
     "metadata": {},
     "output_type": "execute_result"
    }
   ],
   "source": [
    "decoder(input('Input message to decode:'))"
   ]
  },
  {
   "cell_type": "code",
   "execution_count": 3,
   "metadata": {
    "collapsed": false
   },
   "outputs": [
    {
     "name": "stdout",
     "output_type": "stream",
     "text": [
      "Input message to Encode:Uryyb Jbeyq\n"
     ]
    },
    {
     "data": {
      "text/plain": [
       "'Hello World'"
      ]
     },
     "execution_count": 3,
     "metadata": {},
     "output_type": "execute_result"
    }
   ],
   "source": [
    "encoder(input('Input message to Encode:'))"
   ]
  }
 ],
 "metadata": {
  "anaconda-cloud": {},
  "kernelspec": {
   "display_name": "Python [conda root]",
   "language": "python",
   "name": "conda-root-py"
  },
  "language_info": {
   "codemirror_mode": {
    "name": "ipython",
    "version": 3
   },
   "file_extension": ".py",
   "mimetype": "text/x-python",
   "name": "python",
   "nbconvert_exporter": "python",
   "pygments_lexer": "ipython3",
   "version": "3.5.2"
  }
 },
 "nbformat": 4,
 "nbformat_minor": 1
}
